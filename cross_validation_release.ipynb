{
 "cells": [
  {
   "cell_type": "code",
   "execution_count": 2,
   "metadata": {},
   "outputs": [],
   "source": [
    "import numpy as np\n",
    "import matplotlib.pyplot as plt\n",
    "import scipy.sparse as ss\n",
    "from sklearn import tree"
   ]
  },
  {
   "cell_type": "code",
   "execution_count": 3,
   "metadata": {},
   "outputs": [
    {
     "name": "stdout",
     "output_type": "stream",
     "text": [
      "done\n",
      "done\n",
      "done\n",
      "done\n",
      "(800, 100001) (350, 100001) 727760\n",
      "Number of features: 100001\n",
      "Number of labels: 2\n",
      "Sparsity: 0.0\n"
     ]
    }
   ],
   "source": [
    "#load data, in sparse format\n",
    "def load_data(filename):\n",
    "    f = open('dorothea/%s.data' % filename)\n",
    "    I,J = [],[]\n",
    "    for k in range(100000):\n",
    "        line = f.readline()\n",
    "        if len(line) == 0:\n",
    "            print('done')\n",
    "            break\n",
    "\n",
    "        line = [int(x) for x in line.split()]\n",
    "        J.extend(line)\n",
    "        I.extend(k for i in range(len(line)))\n",
    "\n",
    "    return ss.coo_matrix((np.ones(len(I)), (I,J)))\n",
    "\n",
    "\n",
    "def load_labels(filename):\n",
    "    f = open('dorothea/%s.labels' % filename)\n",
    "    y = []\n",
    "    for k in range(100000):\n",
    "        line = f.readline()\n",
    "        \n",
    "        if len(line) == 0:\n",
    "            print('done')\n",
    "            break\n",
    "        y.append(int(line))\n",
    "    return np.array(y)\n",
    "\n",
    "\n",
    "Xtrain = load_data('dorothea_train')\n",
    "ytrain = load_labels('dorothea_train')\n",
    "\n",
    "Xtest= load_data('dorothea_valid')\n",
    "ytest = load_labels('dorothea_valid')\n",
    "\n",
    "print( Xtrain.shape,  Xtest.shape, Xtrain.nnz)\n",
    "# print(Xtrain.size)\n",
    "\n",
    "print(\"Number of features:\", Xtrain.shape[1])\n",
    "print(\"Number of labels:\", len(set(ytrain)) )\n",
    "print(\"Sparsity:\", ((Xtrain.size - Xtrain.nnz) + (Xtest.size - Xtest.nnz)) / (Xtrain.size+Xtest.size))\n"
   ]
  },
  {
   "cell_type": "code",
   "execution_count": 4,
   "metadata": {},
   "outputs": [
    {
     "name": "stdout",
     "output_type": "stream",
     "text": [
      "  (0, 191)\t1.0\n",
      "  (0, 367)\t1.0\n",
      "  (0, 614)\t1.0\n",
      "  (0, 634)\t1.0\n",
      "  (0, 711)\t1.0\n",
      "  (0, 1202)\t1.0\n",
      "  (0, 1220)\t1.0\n",
      "  (0, 1311)\t1.0\n",
      "  (0, 1472)\t1.0\n",
      "  (0, 1730)\t1.0\n",
      "  (0, 2281)\t1.0\n",
      "  (0, 2572)\t1.0\n",
      "  (0, 2602)\t1.0\n",
      "  (0, 2611)\t1.0\n",
      "  (0, 2824)\t1.0\n",
      "  (0, 2855)\t1.0\n",
      "  (0, 2940)\t1.0\n",
      "  (0, 3149)\t1.0\n",
      "  (0, 3313)\t1.0\n",
      "  (0, 3560)\t1.0\n",
      "  (0, 3568)\t1.0\n",
      "  (0, 3824)\t1.0\n",
      "  (0, 4185)\t1.0\n",
      "  (0, 4266)\t1.0\n",
      "  (0, 4366)\t1.0\n",
      "  :\t:\n",
      "  (799, 97876)\t1.0\n",
      "  (799, 97899)\t1.0\n",
      "  (799, 98032)\t1.0\n",
      "  (799, 98266)\t1.0\n",
      "  (799, 98277)\t1.0\n",
      "  (799, 98301)\t1.0\n",
      "  (799, 98342)\t1.0\n",
      "  (799, 98353)\t1.0\n",
      "  (799, 98413)\t1.0\n",
      "  (799, 98419)\t1.0\n",
      "  (799, 98448)\t1.0\n",
      "  (799, 98458)\t1.0\n",
      "  (799, 98468)\t1.0\n",
      "  (799, 98635)\t1.0\n",
      "  (799, 98892)\t1.0\n",
      "  (799, 99118)\t1.0\n",
      "  (799, 99337)\t1.0\n",
      "  (799, 99621)\t1.0\n",
      "  (799, 99625)\t1.0\n",
      "  (799, 99739)\t1.0\n",
      "  (799, 99745)\t1.0\n",
      "  (799, 99755)\t1.0\n",
      "  (799, 99828)\t1.0\n",
      "  (799, 99955)\t1.0\n",
      "  (799, 99967)\t1.0\n"
     ]
    }
   ],
   "source": [
    "\n",
    "\n",
    "print (Xtrain)"
   ]
  },
  {
   "cell_type": "code",
   "execution_count": 5,
   "metadata": {},
   "outputs": [
    {
     "name": "stdout",
     "output_type": "stream",
     "text": [
      "class balance is currently 0.10  +1, 0.90 -1\n"
     ]
    }
   ],
   "source": [
    "def get_class_balance(y):\n",
    "    pr_1 = np.count_nonzero(ytrain==1)/len(ytrain)\n",
    "    return pr_1,1-pr_1\n",
    "\n",
    "print ('class balance is currently %.2f  +1, %.2f -1' % get_class_balance(ytrain))"
   ]
  },
  {
   "cell_type": "code",
   "execution_count": 6,
   "metadata": {},
   "outputs": [
    {
     "name": "stdout",
     "output_type": "stream",
     "text": [
      "Train Misclassification: 0.04125\n",
      "Test Misclassification: 0.07428571428571429\n",
      "Train F1: 0.7724137931034484\n",
      "Test F1: 0.5806451612903226\n"
     ]
    }
   ],
   "source": [
    "def get_misclass(y,yhat):\n",
    "    count = 0\n",
    "    for i in range(len(y)):\n",
    "        if(y[i] != yhat[i]):\n",
    "            count+=1\n",
    "    return (count / len(y))\n",
    "\n",
    "\n",
    "\n",
    "def get_f1(y,yhat):\n",
    "    #fill me in\n",
    "    detected = 0\n",
    "    retrieved = 0\n",
    "    relevant = 0\n",
    "    for i in range(len(y)):\n",
    "        if(y[i]==1 and yhat[i]==1):\n",
    "            detected += 1\n",
    "        if(y[i]==1):\n",
    "            relevant += 1\n",
    "        if(yhat[i]==1):\n",
    "            retrieved += 1\n",
    "    P = detected / retrieved\n",
    "    R = detected / relevant\n",
    "    return (2*P*R)/(P+R)\n",
    "\n",
    "depth = 3\n",
    "clf = tree.DecisionTreeClassifier(criterion='entropy',splitter='best',max_depth=depth, class_weight='balanced')\n",
    "clf = clf.fit(Xtrain, ytrain)\n",
    "\n",
    "print(\"Train Misclassification:\",get_misclass(ytrain, clf.predict(Xtrain) ))\n",
    "print(\"Test Misclassification:\", get_misclass(ytest, clf.predict(Xtest) ))\n",
    "print(\"Train F1:\" , get_f1(ytrain, clf.predict(Xtrain) ))\n",
    "print (\"Test F1:\", get_f1(ytest, clf.predict(Xtest) ))"
   ]
  },
  {
   "cell_type": "code",
   "execution_count": 7,
   "metadata": {},
   "outputs": [
    {
     "data": {
      "image/png": "[encoded data removed]",
      "text/plain": [
       "<Figure size 432x288 with 1 Axes>"
      ]
     },
     "metadata": {
      "needs_background": "light"
     },
     "output_type": "display_data"
    }
   ],
   "source": [
    "depths = range(2,11)\n",
    "train_f1 = []\n",
    "test_f1 = []\n",
    "for depth in depths:\n",
    "    clf = tree.DecisionTreeClassifier(criterion='entropy',splitter='best',max_depth=depth, class_weight='balanced')\n",
    "    clf = clf.fit(Xtrain, ytrain)\n",
    "    train_f1.append(get_f1(ytrain, clf.predict(Xtrain)))\n",
    "    test_f1.append(get_f1(ytest, clf.predict(Xtest)))\n",
    "    \n",
    "    \n",
    "plt.plot(depths, train_f1, label=\"train F1 scores\")\n",
    "plt.plot(depths, test_f1, label=\"test F1 scores\")\n",
    "plt.legend()\n",
    "plt.show()"
   ]
  },
  {
   "cell_type": "code",
   "execution_count": 11,
   "metadata": {},
   "outputs": [
    {
     "name": "stdout",
     "output_type": "stream",
     "text": [
      "2 , 1 : 0.5454545454545454\n",
      "3 , 1 : 0.6\n",
      "4 , 1 : 0.6086956521739131\n",
      "5 , 1 : 0.6363636363636364\n",
      "6 , 1 : 0.6666666666666667\n",
      "7 , 1 : 0.5161290322580645\n",
      "8 , 1 : 0.5384615384615385\n",
      "9 , 1 : 0.56\n",
      "10 , 1 : 0.64\n",
      "avg: 0.5901967857087072\n",
      "test: 0.625\n",
      "2 , 2 : 0.4444444444444444\n",
      "3 , 2 : 0.34615384615384615\n",
      "4 , 2 : 0.4444444444444444\n",
      "5 , 2 : 0.3783783783783784\n",
      "6 , 2 : 0.4444444444444444\n",
      "7 , 2 : 0.4117647058823529\n",
      "8 , 2 : 0.4444444444444444\n",
      "9 , 2 : 0.3783783783783784\n",
      "10 , 2 : 0.3783783783783784\n",
      "avg: 0.40787016277212357\n",
      "test: 0.5862068965517241\n",
      "2 , 3 : 0.7272727272727273\n",
      "3 , 3 : 0.7272727272727273\n",
      "4 , 3 : 0.6857142857142857\n",
      "5 , 3 : 0.6666666666666667\n",
      "6 , 3 : 0.5714285714285714\n",
      "7 , 3 : 0.5714285714285715\n",
      "8 , 3 : 0.5555555555555555\n",
      "9 , 3 : 0.6153846153846154\n",
      "10 , 3 : 0.5\n",
      "avg: 0.6245248578581912\n",
      "test: 0.6129032258064516\n",
      "2 , 4 : 0.5263157894736842\n",
      "3 , 4 : 0.4210526315789474\n",
      "4 , 4 : 0.4210526315789474\n",
      "5 , 4 : 0.5\n",
      "6 , 4 : 0.3448275862068966\n",
      "7 , 4 : 0.5714285714285713\n",
      "8 , 4 : 0.47619047619047616\n",
      "9 , 4 : 0.45454545454545453\n",
      "10 , 4 : 0.43478260869565216\n",
      "avg: 0.4611328610776255\n",
      "test: 0.5633802816901409\n",
      "2 , 5 : 0.7857142857142856\n",
      "3 , 5 : 0.6666666666666665\n",
      "4 , 5 : 0.6206896551724138\n",
      "5 , 5 : 0.6666666666666666\n",
      "6 , 5 : 0.625\n",
      "7 , 5 : 0.6428571428571429\n",
      "8 , 5 : 0.4666666666666667\n",
      "9 , 5 : 0.625\n",
      "10 , 5 : 0.7096774193548386\n",
      "avg: 0.645437611455409\n",
      "test: 0.5999999999999999\n"
     ]
    },
    {
     "data": {
      "image/png": "[encoded data removed]",
      "text/plain": [
       "<Figure size 432x288 with 1 Axes>"
      ]
     },
     "metadata": {
      "needs_background": "light"
     },
     "output_type": "display_data"
    }
   ],
   "source": [
    "# def k_fold_cross(k, depth):\n",
    "#     depths = range(2,depth+1)\n",
    "#     set_len = int(Xtrain.shape[0] / k)\n",
    "#     average_f1 = []\n",
    "#     test_f1 = []\n",
    "#     for depth in depths: \n",
    "#         clf = tree.DecisionTreeClassifier(criterion='entropy',splitter='best',max_depth=depth, class_weight='balanced')\n",
    "        \n",
    "#         best_clf = None\n",
    "#         best_f1 = 0\n",
    "#         valid_f1 = []\n",
    "#         for i in range(k):\n",
    "#             a = Xtrain.toarray()[0:i*set_len]\n",
    "#             b = Xtrain.toarray()[(i+1)*set_len:Xtrain.shape[0]]\n",
    "\n",
    "#             partitioned_Xtrain = np.concatenate((a, b))\n",
    "#             partitioned_Xvalid = Xtrain.toarray()[i*set_len: (i+1)*set_len]\n",
    "            \n",
    "#             partitioned_ytrain = np.concatenate((ytrain[0:i*set_len],ytrain[(i+1)*set_len:len(ytrain)]))\n",
    "#             partitioned_yvalid = ytrain[i*set_len: (i+1)*set_len]\n",
    "\n",
    "#             clf = clf.fit(partitioned_Xtrain, partitioned_ytrain)\n",
    "            \n",
    "#             f1 = get_f1(partitioned_yvalid, clf.predict(partitioned_Xvalid))\n",
    "#             valid_f1.append(f1)\n",
    "#             print(depth,\",\",i+1,\":\",f1)\n",
    "#             if(f1 > best_f1):\n",
    "#                 best_clf = clf\n",
    "#                 best_f1 = f1\n",
    "# #         print(best_f1)\n",
    "#         average_f1.append(np.mean(valid_f1))\n",
    "#         print(\"avg:\",average_f1[-1])\n",
    "#         test_f1.append(get_f1(ytest, best_clf.predict(Xtest)))\n",
    "#         print(\"test:\",test_f1[-1])\n",
    "#         plt.plot(range(1,k+1), valid_f1, label = \"Depth {}\".format(depth))\n",
    "        \n",
    "#         plt.legend()\n",
    "#         plt.show()\n",
    "    \n",
    "#     plt.plot(depths, average_f1, label = \"average f1\")\n",
    "#     plt.plot(depths, test_f1, label = \"test f1\")\n",
    "#     plt.legend()\n",
    "#     plt.show()\n",
    "    \n",
    "# k_fold_cross(5, 10)\n",
    "\n",
    "def k_fold_cross(k, depth):\n",
    "    depths = range(2,depth+1)\n",
    "    set_len = int(Xtrain.shape[0] / k)\n",
    "    average_f1 = []\n",
    "    test_f1 = []\n",
    "    \n",
    "    for i in range(k):\n",
    "        a = Xtrain.toarray()[0:i*set_len]\n",
    "        b = Xtrain.toarray()[(i+1)*set_len:Xtrain.shape[0]]\n",
    "\n",
    "        partitioned_Xtrain = np.concatenate((a, b))\n",
    "        partitioned_Xvalid = Xtrain.toarray()[i*set_len: (i+1)*set_len]\n",
    "\n",
    "        partitioned_ytrain = np.concatenate((ytrain[0:i*set_len],ytrain[(i+1)*set_len:len(ytrain)]))\n",
    "        partitioned_yvalid = ytrain[i*set_len: (i+1)*set_len]\n",
    "        \n",
    "        partitioned_Xtrain = ss.coo_matrix(partitioned_Xtrain)\n",
    "        partitioned_Xvalid = ss.coo_matrix(partitioned_Xvalid)\n",
    "        best_clf = None\n",
    "        best_f1 = 0\n",
    "        valid_f1 = []\n",
    "        for depth in depths: \n",
    "            clf = tree.DecisionTreeClassifier(criterion='entropy',splitter='best',max_depth=depth, class_weight='balanced')\n",
    "\n",
    "            clf = clf.fit(partitioned_Xtrain, partitioned_ytrain)\n",
    "            \n",
    "            f1 = get_f1(partitioned_yvalid, clf.predict(partitioned_Xvalid))\n",
    "            valid_f1.append(f1)\n",
    "            print(depth,\",\",i+1,\":\",f1)\n",
    "            if(f1 > best_f1):\n",
    "                best_clf = clf\n",
    "                best_f1 = f1\n",
    "#         print(best_f1)\n",
    "        average_f1.append(np.mean(valid_f1))\n",
    "        print(\"avg:\",average_f1[-1])\n",
    "        test_f1.append(get_f1(ytest, best_clf.predict(Xtest)))\n",
    "        print(\"test:\",test_f1[-1])\n",
    "        plt.plot(depths, valid_f1, label = \"K = {}\".format(i))\n",
    "    plt.xlabel(\"Depths\")\n",
    "    plt.ylabel(\"F1 Score\")\n",
    "    plt.legend()\n",
    "    plt.show()\n",
    "    \n",
    "#     plt.plot(depths, average_f1, label = \"average f1\")\n",
    "#     plt.plot(depths, test_f1, label = \"test f1\")\n",
    "#     plt.xlabel(\"Depths\")\n",
    "#     plt.ylabel(\"F1 Score\")\n",
    "#     plt.legend()\n",
    "#     plt.show()\n",
    "    \n",
    "k_fold_cross(5, 10)"
   ]
  },
  {
   "cell_type": "code",
   "execution_count": 1,
   "metadata": {},
   "outputs": [
    {
     "ename": "NameError",
     "evalue": "name 'Xtrain' is not defined",
     "output_type": "error",
     "traceback": [
      "\u001b[1;31m---------------------------------------------------------------------------\u001b[0m",
      "\u001b[1;31mNameError\u001b[0m                                 Traceback (most recent call last)",
      "Input \u001b[1;32mIn [1]\u001b[0m, in \u001b[0;36m<cell line: 49>\u001b[1;34m()\u001b[0m\n\u001b[0;32m     46\u001b[0m     plt\u001b[38;5;241m.\u001b[39mlegend()\n\u001b[0;32m     47\u001b[0m     plt\u001b[38;5;241m.\u001b[39mshow()\n\u001b[1;32m---> 49\u001b[0m \u001b[43mk_fold_cross\u001b[49m\u001b[43m(\u001b[49m\u001b[38;5;241;43m5\u001b[39;49m\u001b[43m,\u001b[49m\u001b[43m \u001b[49m\u001b[38;5;241;43m10\u001b[39;49m\u001b[43m)\u001b[49m\n",
      "Input \u001b[1;32mIn [1]\u001b[0m, in \u001b[0;36mk_fold_cross\u001b[1;34m(k, depth)\u001b[0m\n\u001b[0;32m      1\u001b[0m \u001b[38;5;28;01mdef\u001b[39;00m \u001b[38;5;21mk_fold_cross\u001b[39m(k, depth):\n\u001b[0;32m      2\u001b[0m     depths \u001b[38;5;241m=\u001b[39m \u001b[38;5;28mrange\u001b[39m(\u001b[38;5;241m2\u001b[39m,depth\u001b[38;5;241m+\u001b[39m\u001b[38;5;241m1\u001b[39m)\n\u001b[1;32m----> 3\u001b[0m     set_len \u001b[38;5;241m=\u001b[39m \u001b[38;5;28mint\u001b[39m(\u001b[43mXtrain\u001b[49m\u001b[38;5;241m.\u001b[39mshape[\u001b[38;5;241m0\u001b[39m] \u001b[38;5;241m/\u001b[39m k)\n\u001b[0;32m      4\u001b[0m     average_f1 \u001b[38;5;241m=\u001b[39m []\n\u001b[0;32m      5\u001b[0m     test_f1 \u001b[38;5;241m=\u001b[39m []\n",
      "\u001b[1;31mNameError\u001b[0m: name 'Xtrain' is not defined"
     ]
    }
   ],
   "source": []
  },
  {
   "cell_type": "code",
   "execution_count": null,
   "metadata": {},
   "outputs": [],
   "source": []
  },
  {
   "cell_type": "code",
   "execution_count": null,
   "metadata": {},
   "outputs": [],
   "source": []
  },
  {
   "cell_type": "code",
   "execution_count": null,
   "metadata": {},
   "outputs": [],
   "source": []
  },
  {
   "cell_type": "code",
   "execution_count": null,
   "metadata": {},
   "outputs": [],
   "source": []
  }
 ],
 "metadata": {
  "kernelspec": {
   "display_name": "Python 3 (ipykernel)",
   "language": "python",
   "name": "python3"
  },
  "language_info": {
   "codemirror_mode": {
    "name": "ipython",
    "version": 3
   },
   "file_extension": ".py",
   "mimetype": "text/x-python",
   "name": "python",
   "nbconvert_exporter": "python",
   "pygments_lexer": "ipython3",
   "version": "3.9.12"
  }
 },
 "nbformat": 4,
 "nbformat_minor": 4
}
